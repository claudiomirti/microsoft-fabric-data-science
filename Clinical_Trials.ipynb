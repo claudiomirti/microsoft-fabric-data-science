{
 "cells": [
  {
   "cell_type": "code",
   "execution_count": null,
   "metadata": {},
   "outputs": [],
   "source": [
    "# Microsoft Fabric Exercises \n",
    "# Author: Claudio Mirti, Microsoft\n",
    "# Disclaimer: This is a public data set and used for demo purpose only."
   ]
  },
  {
   "cell_type": "code",
   "execution_count": null,
   "metadata": {},
   "outputs": [],
   "source": [
    "import requests\n",
    "import json\n",
    "import pandas as pd\n",
    "import datetime\n",
    "from pyspark.sql import SparkSession"
   ]
  },
  {
   "cell_type": "code",
   "execution_count": null,
   "metadata": {},
   "outputs": [],
   "source": [
    "CDC_BASE_URL = 'https://clinicaltrials.gov/api/query/study_fields?expr=COVID-19&max_rnk=1000&fmt=json'"
   ]
  },
  {
   "cell_type": "code",
   "execution_count": null,
   "metadata": {},
   "outputs": [],
   "source": [
    "cdc_extract_fields = [\n",
    "    'BriefTitle',\n",
    "    'DesignAllocation',\n",
    "    'DesignMasking',\n",
    "    'DesignMaskingDescription',\n",
    "    'InterventionName',\n",
    "    'InterventionType',\n",
    "    'LastKnownStatus',\n",
    "    'OfficialTitle',\n",
    "    'OutcomeAnalysisStatisticalMethod',\n",
    "    'OutcomeMeasureTimeFrame',\n",
    "    'SecondaryOutcomeMeasure',\n",
    "    'StartDate',\n",
    "    'StudyFirstPostDate',\n",
    "    'StudyFirstPostDateType',\n",
    "    'StudyFirstSubmitDate',\n",
    "    'StudyFirstSubmitQCDate',\n",
    "    'StudyPopulation',\n",
    "    'StudyType',\n",
    "    'WhyStopped'\n",
    "]"
   ]
  },
  {
   "cell_type": "code",
   "execution_count": null,
   "metadata": {},
   "outputs": [],
   "source": [
    "query_url = f'{CDC_BASE_URL}&fields={\",\".join(cdc_extract_fields)}'\n",
    "print(query_url)"
   ]
  },
  {
   "cell_type": "code",
   "execution_count": null,
   "metadata": {},
   "outputs": [],
   "source": [
    "r = requests.get(query_url)"
   ]
  },
  {
   "cell_type": "code",
   "execution_count": null,
   "metadata": {},
   "outputs": [],
   "source": [
    "# Check we have a successful extract with code 200\n",
    "r.status_code"
   ]
  },
  {
   "cell_type": "code",
   "execution_count": null,
   "metadata": {},
   "outputs": [],
   "source": [
    "# Load the JSON data to a dictionary\n",
    "j = json.loads(r.content)"
   ]
  },
  {
   "cell_type": "code",
   "execution_count": null,
   "metadata": {},
   "outputs": [],
   "source": [
    "# This is quite a flat JSON structure, so can be loaded into a DataFrame\n",
    "df = pd.DataFrame(j['StudyFieldsResponse']['StudyFields'])"
   ]
  },
  {
   "cell_type": "code",
   "execution_count": null,
   "metadata": {},
   "outputs": [],
   "source": [
    "# Some of the fields are single-item lists which can be cleaned\n",
    "def de_list(input_field):\n",
    "    if isinstance(input_field, list):\n",
    "        if len(input_field) == 0:\n",
    "            return None\n",
    "        elif len(input_field) == 1:\n",
    "            return input_field[0]\n",
    "        else:\n",
    "            return '; '.join(input_field)\n",
    "    else:\n",
    "        return input_field"
   ]
  },
  {
   "cell_type": "code",
   "execution_count": null,
   "metadata": {},
   "outputs": [],
   "source": [
    "for c in df.columns:\n",
    "    df[c] = df[c].apply(de_list)"
   ]
  },
  {
   "cell_type": "code",
   "execution_count": null,
   "metadata": {},
   "outputs": [],
   "source": [
    "df['StudyFirstPostDate'] = pd.to_datetime(df.StudyFirstPostDate)\n",
    "df = df.sort_values(by='StudyFirstPostDate', ascending=False)"
   ]
  },
  {
   "cell_type": "code",
   "execution_count": null,
   "metadata": {},
   "outputs": [],
   "source": [
    "df[df.StudyType == 'Interventional'].head(100)"
   ]
  },
  {
   "cell_type": "code",
   "execution_count": null,
   "metadata": {},
   "outputs": [],
   "source": [
    "#Create PySpark DataFrame from Pandas\n",
    "sparkDF=spark.createDataFrame(df) \n",
    "sparkDF.printSchema()\n",
    "sparkDF.show()"
   ]
  },
  {
   "cell_type": "code",
   "execution_count": null,
   "metadata": {},
   "outputs": [],
   "source": [
    "# no need to define portfolio_path before\n",
    "sparkDF.write.mode(\"overwrite\").format(\"delta\").save(\"Tables/\" + \"clinic\")"
   ]
  }
 ],
 "metadata": {
  "language_info": {
   "name": "python"
  },
  "orig_nbformat": 4
 },
 "nbformat": 4,
 "nbformat_minor": 2
}
