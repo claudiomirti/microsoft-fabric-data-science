{
 "cells": [
  {
   "cell_type": "code",
   "execution_count": null,
   "metadata": {},
   "outputs": [],
   "source": [
    "# Microsoft Fabric Exercises \n",
    "# Author: Claudio Mirti, Microsoft\n",
    "# Disclaimer: This is a random data set and used for demo purpose only."
   ]
  },
  {
   "cell_type": "code",
   "execution_count": null,
   "metadata": {},
   "outputs": [],
   "source": [
    "import matplotlib.pyplot as plt\n",
    "import seaborn as sns\n",
    "import pandas as pd\n",
    "import random\n",
    "import calendar"
   ]
  },
  {
   "cell_type": "code",
   "execution_count": null,
   "metadata": {},
   "outputs": [],
   "source": [
    "# Generate random manufacturing data\n",
    "start_date = pd.to_datetime('2022-01-01')\n",
    "end_date = start_date + pd.DateOffset(months=6) - pd.DateOffset(days=1)\n",
    "dates = pd.date_range(start=start_date, end=end_date, freq='D')\n",
    "\n",
    "production = [random.randint(1000, 5000) for _ in range(len(dates))]\n",
    "sales = [random.randint(500, 4000) for _ in range(len(dates))]"
   ]
  },
  {
   "cell_type": "code",
   "execution_count": null,
   "metadata": {},
   "outputs": [],
   "source": [
    "# Create a DataFrame with the manufacturing data\n",
    "data = pd.DataFrame({'Date': dates, 'Production': production, 'Sales': sales})\n",
    "data['Week'] = data['Date'].dt.isocalendar().week\n",
    "data['Month'] = data['Date'].dt.month.apply(lambda x: calendar.month_abbr[x])"
   ]
  },
  {
   "cell_type": "code",
   "execution_count": null,
   "metadata": {},
   "outputs": [],
   "source": [
    "# Aggregate data by week and calculate weekly sales\n",
    "weekly_data = data.groupby(['Month', 'Week']).agg({'Production': 'sum', 'Sales': 'sum'}).reset_index()"
   ]
  },
  {
   "cell_type": "code",
   "execution_count": null,
   "metadata": {},
   "outputs": [],
   "source": [
    "# Create a line plot for daily production and sales\n",
    "plt.figure(figsize=(10, 6))\n",
    "sns.lineplot(data=data, x='Date', y='Production', label='Production')\n",
    "sns.lineplot(data=data, x='Date', y='Sales', label='Sales')\n",
    "plt.xlabel('Date')\n",
    "plt.ylabel('Amount')\n",
    "plt.title('Daily Production and Sales of Chocolates')\n",
    "plt.legend()\n",
    "plt.tight_layout()\n",
    "plt.show()"
   ]
  },
  {
   "cell_type": "code",
   "execution_count": null,
   "metadata": {},
   "outputs": [],
   "source": [
    "# Create a bar plot for weekly production and sales\n",
    "plt.figure(figsize=(10, 6))\n",
    "sns.barplot(data=weekly_data, x='Month', y='Production', hue='Week')\n",
    "plt.xlabel('Month')\n",
    "plt.ylabel('Amount')\n",
    "plt.title('Weekly Production of Chocolates')\n",
    "plt.tight_layout()\n",
    "plt.show()"
   ]
  },
  {
   "cell_type": "code",
   "execution_count": null,
   "metadata": {},
   "outputs": [],
   "source": [
    "# Create a geographical view of Europe (random example)\n",
    "# Note: This example uses a random dataset and does not represent actual geographic data\n",
    "european_countries = ['Germany', 'France', 'Italy', 'Spain', 'United Kingdom']\n",
    "production_by_country = [random.randint(1000, 5000) for _ in range(len(european_countries))]\n",
    "\n",
    "plt.figure(figsize=(8, 6))\n",
    "sns.barplot(x=production_by_country, y=european_countries)\n",
    "plt.xlabel('Amount')\n",
    "plt.ylabel('Country')\n",
    "plt.title('Chocolate Production in European Countries')\n",
    "plt.tight_layout()\n",
    "plt.show()"
   ]
  },
  {
   "cell_type": "code",
   "execution_count": null,
   "metadata": {},
   "outputs": [],
   "source": [
    "#Create PySpark DataFrame from Pandas\n",
    "sparkDF=spark.createDataFrame(data) \n",
    "sparkDF.printSchema()\n",
    "sparkDF.show()"
   ]
  },
  {
   "cell_type": "code",
   "execution_count": null,
   "metadata": {},
   "outputs": [],
   "source": [
    "# write spark table\n",
    "sparkDF.write.mode(\"overwrite\").format(\"delta\").save(\"Tables/\" + \"ChocolateProduction\") "
   ]
  }
 ],
 "metadata": {
  "language_info": {
   "name": "python"
  },
  "orig_nbformat": 4
 },
 "nbformat": 4,
 "nbformat_minor": 2
}
